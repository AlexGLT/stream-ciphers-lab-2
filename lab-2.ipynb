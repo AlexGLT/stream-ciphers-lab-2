{
 "cells": [
  {
   "cell_type": "code",
   "execution_count": 30,
   "metadata": {},
   "outputs": [],
   "source": [
    "from sage.crypto.boolean_function import BooleanFunction\n",
    "import numpy as np\n",
    "import pandas as pd\n",
    "from multiprocess import Pool\n"
   ]
  },
  {
   "cell_type": "code",
   "execution_count": 31,
   "metadata": {},
   "outputs": [
    {
     "name": "stdout",
     "output_type": "stream",
     "text": [
      "Defining x0, x1, x2, x3, x4, x5\n"
     ]
    }
   ],
   "source": [
    "state_power = 6\n",
    "\n",
    "B = BooleanPolynomialRing(state_power, 'x', order = 'lex')\n",
    "B.inject_variables()\n"
   ]
  },
  {
   "cell_type": "code",
   "execution_count": 32,
   "metadata": {},
   "outputs": [
    {
     "data": {
      "text/plain": [
       "x0*x4*x5 + x1*x4*x5 + x2*x4*x5 + x2*x5 + x3*x4*x5 + x3*x5 + x4*x5 + x4 + x5 + 1"
      ]
     },
     "execution_count": 32,
     "metadata": {},
     "output_type": "execute_result"
    }
   ],
   "source": [
    "with open('./combining-function.txt') as combining_function_file:\n",
    "\tcombining_function_string = combining_function_file\\\n",
    "\t\t.read()\\\n",
    "\t\t.replace('_{', '')\\\n",
    "\t\t.replace('} x', ' * x')\\\n",
    "\t\t.replace('} +', ' +')\n",
    "\n",
    "\tcombining_function = eval(combining_function_string)\n",
    "\n",
    "combining_function\n"
   ]
  },
  {
   "cell_type": "code",
   "execution_count": 33,
   "metadata": {},
   "outputs": [
    {
     "data": {
      "text/plain": [
       "[1, 0, 0, 1, 0, 0, 1, 0, 0, 1]"
      ]
     },
     "execution_count": 33,
     "metadata": {},
     "output_type": "execute_result"
    }
   ],
   "source": [
    "with open('./validated-gamma.txt') as validated_gamma_file:\n",
    "\tvalidated_gamma = validated_gamma_file.read()\n",
    "\tvalidated_gamma = [int(bit) for bit in validated_gamma]\n",
    "\n",
    "validated_gamma[:10]\n"
   ]
  },
  {
   "cell_type": "code",
   "execution_count": 34,
   "metadata": {},
   "outputs": [
    {
     "data": {
      "text/plain": [
       "[576, 516, 864, 706, 610, 786]"
      ]
     },
     "execution_count": 34,
     "metadata": {},
     "output_type": "execute_result"
    }
   ],
   "source": [
    "def poly_to_int(poly):\n",
    "\treturn int(''.join([str(i) for i in poly.list()[:-1]]), 2)\n",
    "\n",
    "polynomials = [\n",
    "\tx^10 + x^3 + 1,\n",
    "\tx^10 + x^7 + 1,\n",
    "\tx^10 + x^4 + x^3 + x + 1,\n",
    "\tx^10 + x^8 + x^3 + x^2 + 1,\n",
    "\tx^10 + x^8 + x^4 + x^3 + 1,\n",
    "\tx^10 + x^8 + x^5 + x + 1,\n",
    "]\n",
    "\n",
    "polynomials_int = [poly_to_int(poly) for poly in polynomials]\n",
    "\n",
    "polynomials_int\n"
   ]
  },
  {
   "cell_type": "code",
   "execution_count": 35,
   "metadata": {},
   "outputs": [
    {
     "name": "stdout",
     "output_type": "stream",
     "text": [
      "[0, 0, 0, 16, 0, 0, 0, 0, 0, 0, 0, 0, 16, 0, 0, 0, -32, 0, 0, -16, 0, 0, 0, 0, 0, 0, 0, 0, 16, 0, 0, 0, 0, 0, 0, -16, 0, 0, 0, 0, 0, 0, 0, 0, -16, 0, 0, 0, -32, 0, 0, 16, 0, 0, 0, 0, 0, 0, 0, 0, -16, 0, 0, 0]\n"
     ]
    }
   ],
   "source": [
    "walsh_spectre = list(BooleanFunction(combining_function).walsh_hadamard_transform())\n",
    "\n",
    "print(walsh_spectre)\n"
   ]
  },
  {
   "cell_type": "code",
   "execution_count": 36,
   "metadata": {},
   "outputs": [],
   "source": [
    "def int_to_binary(number):\n",
    "\treturn [(number >> j) & 1 for j in range(state_power)]"
   ]
  },
  {
   "cell_type": "code",
   "execution_count": 37,
   "metadata": {},
   "outputs": [
    {
     "data": {
      "text/plain": [
       "['x0',\n",
       " 'x1',\n",
       " 'x0 + x1',\n",
       " 'x2',\n",
       " 'x0 + x2',\n",
       " 'x1 + x2',\n",
       " 'x0 + x1 + x2',\n",
       " 'x3',\n",
       " 'x0 + x3',\n",
       " 'x1 + x3',\n",
       " 'x0 + x1 + x3',\n",
       " 'x2 + x3',\n",
       " 'x0 + x2 + x3',\n",
       " 'x1 + x2 + x3',\n",
       " 'x0 + x1 + x2 + x3',\n",
       " 'x4 + 1',\n",
       " 'x0 + x4',\n",
       " 'x1 + x4',\n",
       " 'x0 + x1 + x4 + 1',\n",
       " 'x2 + x4',\n",
       " 'x0 + x2 + x4',\n",
       " 'x1 + x2 + x4',\n",
       " 'x0 + x1 + x2 + x4',\n",
       " 'x3 + x4',\n",
       " 'x0 + x3 + x4',\n",
       " 'x1 + x3 + x4',\n",
       " 'x0 + x1 + x3 + x4',\n",
       " 'x2 + x3 + x4',\n",
       " 'x0 + x2 + x3 + x4',\n",
       " 'x1 + x2 + x3 + x4',\n",
       " 'x0 + x1 + x2 + x3 + x4',\n",
       " 'x5',\n",
       " 'x0 + x5',\n",
       " 'x1 + x5',\n",
       " 'x0 + x1 + x5 + 1',\n",
       " 'x2 + x5',\n",
       " 'x0 + x2 + x5',\n",
       " 'x1 + x2 + x5',\n",
       " 'x0 + x1 + x2 + x5',\n",
       " 'x3 + x5',\n",
       " 'x0 + x3 + x5',\n",
       " 'x1 + x3 + x5',\n",
       " 'x0 + x1 + x3 + x5',\n",
       " 'x2 + x3 + x5 + 1',\n",
       " 'x0 + x2 + x3 + x5',\n",
       " 'x1 + x2 + x3 + x5',\n",
       " 'x0 + x1 + x2 + x3 + x5',\n",
       " 'x4 + x5 + 1',\n",
       " 'x0 + x4 + x5',\n",
       " 'x1 + x4 + x5',\n",
       " 'x0 + x1 + x4 + x5',\n",
       " 'x2 + x4 + x5',\n",
       " 'x0 + x2 + x4 + x5',\n",
       " 'x1 + x2 + x4 + x5',\n",
       " 'x0 + x1 + x2 + x4 + x5',\n",
       " 'x3 + x4 + x5',\n",
       " 'x0 + x3 + x4 + x5',\n",
       " 'x1 + x3 + x4 + x5',\n",
       " 'x0 + x1 + x3 + x4 + x5',\n",
       " 'x2 + x3 + x4 + x5 + 1',\n",
       " 'x0 + x2 + x3 + x4 + x5',\n",
       " 'x1 + x2 + x3 + x4 + x5',\n",
       " 'x0 + x1 + x2 + x3 + x4 + x5']"
      ]
     },
     "execution_count": 37,
     "metadata": {},
     "output_type": "execute_result"
    }
   ],
   "source": [
    "stringified_analogs = []\n",
    "analogs = {}\n",
    "analogs_with_walsh = {}\n",
    "\n",
    "for index in range(len(walsh_spectre)):\n",
    "\tcoefficient = walsh_spectre[index]\n",
    "\tanalog_monomials = []\n",
    "\n",
    "\tindex_binary = int_to_binary(index)\n",
    "\n",
    "\tfor i, a_i in enumerate(index_binary):\n",
    "\t\tif a_i == 1:\n",
    "\t\t\tanalog_monomials.append(f'x{i}')\n",
    "\t\n",
    "\tif (sign(coefficient) == -1):\n",
    "\t\tanalog_monomials.append('1')\n",
    "\n",
    "\tif len(analog_monomials) > 0:\n",
    "\t\tstringified_analog = ' + '.join(analog_monomials)\n",
    "\n",
    "\t\tstringified_analogs.append(stringified_analog)\n",
    "\t\tanalogs[stringified_analog] = BooleanFunction(eval(stringified_analog))\n",
    "\t\tanalogs_with_walsh[stringified_analog] = coefficient\n",
    "\n",
    "stringified_analogs\n"
   ]
  },
  {
   "cell_type": "code",
   "execution_count": 38,
   "metadata": {},
   "outputs": [
    {
     "data": {
      "text/plain": [
       "{'x4 + 1': 0.75,\n",
       " 'x4 + x5 + 1': 0.75,\n",
       " 'x0 + x1': 0.625,\n",
       " 'x2 + x3': 0.625,\n",
       " 'x0 + x1 + x4 + 1': 0.625,\n",
       " 'x2 + x3 + x4': 0.625,\n",
       " 'x0 + x1 + x5 + 1': 0.625,\n",
       " 'x2 + x3 + x5 + 1': 0.625,\n",
       " 'x0 + x1 + x4 + x5': 0.625,\n",
       " 'x2 + x3 + x4 + x5 + 1': 0.625,\n",
       " 'x0': 0.5,\n",
       " 'x1': 0.5,\n",
       " 'x2': 0.5,\n",
       " 'x0 + x2': 0.5,\n",
       " 'x1 + x2': 0.5,\n",
       " 'x0 + x1 + x2': 0.5,\n",
       " 'x3': 0.5,\n",
       " 'x0 + x3': 0.5,\n",
       " 'x1 + x3': 0.5,\n",
       " 'x0 + x1 + x3': 0.5,\n",
       " 'x0 + x2 + x3': 0.5,\n",
       " 'x1 + x2 + x3': 0.5,\n",
       " 'x0 + x1 + x2 + x3': 0.5,\n",
       " 'x0 + x4': 0.5,\n",
       " 'x1 + x4': 0.5,\n",
       " 'x2 + x4': 0.5,\n",
       " 'x0 + x2 + x4': 0.5,\n",
       " 'x1 + x2 + x4': 0.5,\n",
       " 'x0 + x1 + x2 + x4': 0.5,\n",
       " 'x3 + x4': 0.5,\n",
       " 'x0 + x3 + x4': 0.5,\n",
       " 'x1 + x3 + x4': 0.5,\n",
       " 'x0 + x1 + x3 + x4': 0.5,\n",
       " 'x0 + x2 + x3 + x4': 0.5,\n",
       " 'x1 + x2 + x3 + x4': 0.5,\n",
       " 'x0 + x1 + x2 + x3 + x4': 0.5,\n",
       " 'x5': 0.5,\n",
       " 'x0 + x5': 0.5,\n",
       " 'x1 + x5': 0.5,\n",
       " 'x2 + x5': 0.5,\n",
       " 'x0 + x2 + x5': 0.5,\n",
       " 'x1 + x2 + x5': 0.5,\n",
       " 'x0 + x1 + x2 + x5': 0.5,\n",
       " 'x3 + x5': 0.5,\n",
       " 'x0 + x3 + x5': 0.5,\n",
       " 'x1 + x3 + x5': 0.5,\n",
       " 'x0 + x1 + x3 + x5': 0.5,\n",
       " 'x0 + x2 + x3 + x5': 0.5,\n",
       " 'x1 + x2 + x3 + x5': 0.5,\n",
       " 'x0 + x1 + x2 + x3 + x5': 0.5,\n",
       " 'x0 + x4 + x5': 0.5,\n",
       " 'x1 + x4 + x5': 0.5,\n",
       " 'x2 + x4 + x5': 0.5,\n",
       " 'x0 + x2 + x4 + x5': 0.5,\n",
       " 'x1 + x2 + x4 + x5': 0.5,\n",
       " 'x0 + x1 + x2 + x4 + x5': 0.5,\n",
       " 'x3 + x4 + x5': 0.5,\n",
       " 'x0 + x3 + x4 + x5': 0.5,\n",
       " 'x1 + x3 + x4 + x5': 0.5,\n",
       " 'x0 + x1 + x3 + x4 + x5': 0.5,\n",
       " 'x0 + x2 + x3 + x4 + x5': 0.5,\n",
       " 'x1 + x2 + x3 + x4 + x5': 0.5,\n",
       " 'x0 + x1 + x2 + x3 + x4 + x5': 0.5}"
      ]
     },
     "execution_count": 38,
     "metadata": {},
     "output_type": "execute_result"
    }
   ],
   "source": [
    "boolean_combining_function = BooleanFunction(combining_function)\n",
    "\n",
    "probabilities = dict(zip(stringified_analogs, np.zeros(len(stringified_analogs))))\n",
    "\n",
    "for stringified_analog in stringified_analogs:\n",
    "\tfor i in range(1 << state_power):\n",
    "\t\tif boolean_combining_function(i) == analogs[stringified_analog](i):\n",
    "\t\t\tprobabilities[stringified_analog] += 1\n",
    "\n",
    "for analog in probabilities.keys():\n",
    "\tprobabilities[analog] /= (1 << state_power)\n",
    "\n",
    "probabilities = dict(sorted(probabilities.items(), key = lambda x: x[1], reverse = True))\n",
    "\n",
    "probabilities\n"
   ]
  },
  {
   "cell_type": "code",
   "execution_count": 39,
   "metadata": {},
   "outputs": [
    {
     "data": {
      "text/plain": [
       "['x4 + 1',\n",
       " 'x4 + x5 + 1',\n",
       " 'x0 + x1',\n",
       " 'x2 + x3',\n",
       " 'x0 + x1 + x4 + 1',\n",
       " 'x2 + x3 + x4',\n",
       " 'x0 + x1 + x5 + 1',\n",
       " 'x2 + x3 + x5 + 1',\n",
       " 'x0 + x1 + x4 + x5',\n",
       " 'x2 + x3 + x4 + x5 + 1']"
      ]
     },
     "execution_count": 39,
     "metadata": {},
     "output_type": "execute_result"
    }
   ],
   "source": [
    "best_of_the_best = list(probabilities.keys())[:10]\n",
    "\n",
    "candidates = [analogs[stringified_analog] for stringified_analog in best_of_the_best]\n",
    "\n",
    "best_of_the_best\n"
   ]
  },
  {
   "cell_type": "code",
   "execution_count": 40,
   "metadata": {},
   "outputs": [],
   "source": [
    "%%cython\n",
    "\n",
    "from libc.stdlib cimport malloc, free\n",
    "cdef int LENGTH = 10\n",
    "\n",
    "def generate_sequence(int poly, int init_state, int nbits):\n",
    "\tcdef int curr_state = init_state, s, i, j\n",
    "\tcdef int* res_array = <int*>malloc(sizeof(int)*nbits)\n",
    "\n",
    "\ttry:\n",
    "\t\tfor i in range(nbits):\n",
    "\t\t\tres_array[i] = (curr_state >> (LENGTH - 1)) & 1\n",
    "\t\t\ts = 0\n",
    "\t\t\t\n",
    "\t\t\tfor j in range(LENGTH):\n",
    "\t\t\t\ts = s ^ (((curr_state & poly) >> j) & 1)\n",
    "\t\t\t\n",
    "\t\t\tcurr_state = (curr_state << 1) | s\n",
    "\t\t\t\n",
    "\t\treturn [x for x in res_array [:nbits]]\n",
    "\tfinally:\n",
    "\t\tfree(res_array)\n"
   ]
  },
  {
   "cell_type": "code",
   "execution_count": 41,
   "metadata": {},
   "outputs": [],
   "source": [
    "def state_to_int(*params):\n",
    "\tnumber = 0\n",
    "\n",
    "\tfor index, bit in params:\n",
    "\t\ttemp = bit << index\n",
    "\n",
    "\t\tnumber |= temp\n",
    "\n",
    "\treturn number\n"
   ]
  },
  {
   "cell_type": "code",
   "execution_count": 42,
   "metadata": {},
   "outputs": [],
   "source": [
    "brutforce_power = 1 << 10\n",
    "\n",
    "def get_bit_vector(*params):\n",
    "\tvector = [0 for i in range(6)]\n",
    "\n",
    "\tfor index, bit in params:\n",
    "\t\tvector[index] = bit\n",
    "\n",
    "\treturn vector\n",
    "\n",
    "def get_T(k):\n",
    "\treturn int(8 * 0.5 ** -2 * np.log(2 ** (10 * k) * 100))\n",
    "\n",
    "def get_bit_difference(first_sequence, second_sequence):\n",
    "\treturn sum([a != b for a, b in zip(first_sequence, second_sequence)])\n",
    "\n",
    "def get_sorted_dict(dictionary):\n",
    "\treturn list(sorted(dictionary.items(), key = lambda x: x[1]))\n"
   ]
  },
  {
   "cell_type": "code",
   "execution_count": 43,
   "metadata": {},
   "outputs": [],
   "source": [
    "def brutforce_for_one_variable(init_state, poly_index, g, T):\n",
    "\tsequence = generate_sequence(polynomials_int[poly_index], init_state, T)\n",
    "\ttest_sequence = [g(state_to_int((poly_index, bit))) for bit in sequence]\n",
    "\n",
    "\treturn (init_state, get_bit_difference(test_sequence, validated_gamma[:T]))\n"
   ]
  },
  {
   "cell_type": "code",
   "execution_count": 44,
   "metadata": {},
   "outputs": [
    {
     "name": "stdout",
     "output_type": "stream",
     "text": [
      "g_0 = x4 + 1\n",
      "\n",
      "T = 590\n",
      "----------\n",
      "CPU times: user 42 ms, sys: 70.4 ms, total: 112 ms\n",
      "Wall time: 157 ms\n"
     ]
    },
    {
     "data": {
      "text/html": [
       "<div>\n",
       "<style scoped>\n",
       "    .dataframe tbody tr th:only-of-type {\n",
       "        vertical-align: middle;\n",
       "    }\n",
       "\n",
       "    .dataframe tbody tr th {\n",
       "        vertical-align: top;\n",
       "    }\n",
       "\n",
       "    .dataframe thead th {\n",
       "        text-align: right;\n",
       "    }\n",
       "</style>\n",
       "<table border=\"1\" class=\"dataframe\">\n",
       "  <thead>\n",
       "    <tr style=\"text-align: right;\">\n",
       "      <th></th>\n",
       "      <th>Initial State</th>\n",
       "      <th>Hemming Distance</th>\n",
       "    </tr>\n",
       "  </thead>\n",
       "  <tbody>\n",
       "    <tr>\n",
       "      <th>0</th>\n",
       "      <td>51</td>\n",
       "      <td>147</td>\n",
       "    </tr>\n",
       "    <tr>\n",
       "      <th>1</th>\n",
       "      <td>373</td>\n",
       "      <td>259</td>\n",
       "    </tr>\n",
       "    <tr>\n",
       "      <th>2</th>\n",
       "      <td>63</td>\n",
       "      <td>261</td>\n",
       "    </tr>\n",
       "    <tr>\n",
       "      <th>3</th>\n",
       "      <td>521</td>\n",
       "      <td>264</td>\n",
       "    </tr>\n",
       "    <tr>\n",
       "      <th>4</th>\n",
       "      <td>86</td>\n",
       "      <td>266</td>\n",
       "    </tr>\n",
       "    <tr>\n",
       "      <th>5</th>\n",
       "      <td>175</td>\n",
       "      <td>266</td>\n",
       "    </tr>\n",
       "    <tr>\n",
       "      <th>6</th>\n",
       "      <td>781</td>\n",
       "      <td>269</td>\n",
       "    </tr>\n",
       "    <tr>\n",
       "      <th>7</th>\n",
       "      <td>934</td>\n",
       "      <td>269</td>\n",
       "    </tr>\n",
       "    <tr>\n",
       "      <th>8</th>\n",
       "      <td>23</td>\n",
       "      <td>270</td>\n",
       "    </tr>\n",
       "    <tr>\n",
       "      <th>9</th>\n",
       "      <td>850</td>\n",
       "      <td>270</td>\n",
       "    </tr>\n",
       "  </tbody>\n",
       "</table>\n",
       "</div>"
      ],
      "text/plain": [
       "   Initial State  Hemming Distance\n",
       "0             51               147\n",
       "1            373               259\n",
       "2             63               261\n",
       "3            521               264\n",
       "4             86               266\n",
       "5            175               266\n",
       "6            781               269\n",
       "7            934               269\n",
       "8             23               270\n",
       "9            850               270"
      ]
     },
     "execution_count": 44,
     "metadata": {},
     "output_type": "execute_result"
    }
   ],
   "source": [
    "%%time\n",
    "\n",
    "g_0 = candidates[0]\n",
    "T_0 = get_T(2)\n",
    "\n",
    "print(f'g_0 = {best_of_the_best[0]}')\n",
    "print(f'')\n",
    "print(f'T = {T_0}')\n",
    "print(f'----------')\n",
    "\n",
    "with Pool() as pool:\n",
    "\tdifferences_0 = dict(\n",
    "\t\tpool.map(\n",
    "\t\t\tlambda init_state: brutforce_for_one_variable(init_state, 4, g_0, T_0),\n",
    "\t\t\trange(brutforce_power)\n",
    "\t\t)\n",
    "\t)\n",
    "\n",
    "pd.DataFrame(get_sorted_dict(differences_0)[:10], columns = ['Initial State', 'Hemming Distance'])\n"
   ]
  },
  {
   "cell_type": "code",
   "execution_count": 45,
   "metadata": {},
   "outputs": [],
   "source": [
    "poly_state_4 = 51\n"
   ]
  },
  {
   "cell_type": "code",
   "execution_count": 46,
   "metadata": {},
   "outputs": [],
   "source": [
    "def brutforce_for_one_variable_custom(init_state, poly_index_2, g, T, generated_sequence):\n",
    "\tpoly_index_1, sequence_1 = generated_sequence\n",
    "\n",
    "\tsequence_2 = generate_sequence(polynomials_int[poly_index_2], init_state, T)\n",
    "\n",
    "\ttest_sequence = [\n",
    "\t\tg(state_to_int((poly_index_1, sequence_1[i]), (poly_index_2, sequence_2[i])))\n",
    "\t\tfor i in range(T)\n",
    "\t]\n",
    "\n",
    "\treturn (init_state, get_bit_difference(test_sequence, validated_gamma[:T]))\n"
   ]
  },
  {
   "cell_type": "code",
   "execution_count": 47,
   "metadata": {},
   "outputs": [
    {
     "name": "stdout",
     "output_type": "stream",
     "text": [
      "g_1 = x4 + x5 + 1\n",
      "\n",
      "T = 590\n",
      "----------\n",
      "CPU times: user 26.5 ms, sys: 76.4 ms, total: 103 ms\n",
      "Wall time: 166 ms\n"
     ]
    },
    {
     "data": {
      "text/html": [
       "<div>\n",
       "<style scoped>\n",
       "    .dataframe tbody tr th:only-of-type {\n",
       "        vertical-align: middle;\n",
       "    }\n",
       "\n",
       "    .dataframe tbody tr th {\n",
       "        vertical-align: top;\n",
       "    }\n",
       "\n",
       "    .dataframe thead th {\n",
       "        text-align: right;\n",
       "    }\n",
       "</style>\n",
       "<table border=\"1\" class=\"dataframe\">\n",
       "  <thead>\n",
       "    <tr style=\"text-align: right;\">\n",
       "      <th></th>\n",
       "      <th>Initial State</th>\n",
       "      <th>Hemming Distance</th>\n",
       "    </tr>\n",
       "  </thead>\n",
       "  <tbody>\n",
       "    <tr>\n",
       "      <th>0</th>\n",
       "      <td>0</td>\n",
       "      <td>147</td>\n",
       "    </tr>\n",
       "    <tr>\n",
       "      <th>1</th>\n",
       "      <td>951</td>\n",
       "      <td>150</td>\n",
       "    </tr>\n",
       "    <tr>\n",
       "      <th>2</th>\n",
       "      <td>279</td>\n",
       "      <td>264</td>\n",
       "    </tr>\n",
       "    <tr>\n",
       "      <th>3</th>\n",
       "      <td>16</td>\n",
       "      <td>266</td>\n",
       "    </tr>\n",
       "    <tr>\n",
       "      <th>4</th>\n",
       "      <td>41</td>\n",
       "      <td>266</td>\n",
       "    </tr>\n",
       "    <tr>\n",
       "      <th>5</th>\n",
       "      <td>328</td>\n",
       "      <td>266</td>\n",
       "    </tr>\n",
       "    <tr>\n",
       "      <th>6</th>\n",
       "      <td>451</td>\n",
       "      <td>267</td>\n",
       "    </tr>\n",
       "    <tr>\n",
       "      <th>7</th>\n",
       "      <td>799</td>\n",
       "      <td>267</td>\n",
       "    </tr>\n",
       "    <tr>\n",
       "      <th>8</th>\n",
       "      <td>397</td>\n",
       "      <td>269</td>\n",
       "    </tr>\n",
       "    <tr>\n",
       "      <th>9</th>\n",
       "      <td>904</td>\n",
       "      <td>269</td>\n",
       "    </tr>\n",
       "  </tbody>\n",
       "</table>\n",
       "</div>"
      ],
      "text/plain": [
       "   Initial State  Hemming Distance\n",
       "0              0               147\n",
       "1            951               150\n",
       "2            279               264\n",
       "3             16               266\n",
       "4             41               266\n",
       "5            328               266\n",
       "6            451               267\n",
       "7            799               267\n",
       "8            397               269\n",
       "9            904               269"
      ]
     },
     "execution_count": 47,
     "metadata": {},
     "output_type": "execute_result"
    }
   ],
   "source": [
    "%%time\n",
    "\n",
    "g_1 = candidates[1]\n",
    "T_1 = get_T(2)\n",
    "\n",
    "print(f'g_1 = {best_of_the_best[1]}')\n",
    "print(f'')\n",
    "print(f'T = {T_1}')\n",
    "print(f'----------')\n",
    "\n",
    "sequence_poly_4 = generate_sequence(polynomials_int[4], poly_state_4, T_1)\n",
    "\n",
    "with Pool() as pool:\n",
    "\tdifferences_1 = dict(\n",
    "\t\tpool.map(\n",
    "\t\t\tlambda init_state: brutforce_for_one_variable_custom(init_state, 5, g_1, T_1, (4, sequence_poly_4)),\n",
    "\t\t\trange(brutforce_power)\n",
    "\t\t)\n",
    "\t)\n",
    "\n",
    "pd.DataFrame(get_sorted_dict(differences_1)[:10], columns = ['Initial State', 'Hemming Distance'])\n"
   ]
  },
  {
   "cell_type": "code",
   "execution_count": 48,
   "metadata": {},
   "outputs": [],
   "source": [
    "poly_state_5 = 951\n"
   ]
  },
  {
   "cell_type": "code",
   "execution_count": 49,
   "metadata": {},
   "outputs": [],
   "source": [
    "def brutforce_for_two_variable(init_state_1, polynomials_indexes, g, T):\n",
    "\tpoly_index_1, poly_index_2 = polynomials_indexes\n",
    "\n",
    "\tdifferences = []\n",
    "\n",
    "\tsequence_1 = generate_sequence(polynomials_int[poly_index_1], init_state_1, T)\n",
    "\n",
    "\tfor init_state_2 in range(brutforce_power):\n",
    "\t\tsequence_2 = generate_sequence(polynomials_int[poly_index_2], init_state_2, T)\n",
    "\n",
    "\t\ttest_sequence = [\n",
    "\t\t\tg(state_to_int((poly_index_1, sequence_1[i]), (poly_index_2, sequence_2[i]))) \n",
    "\t\t\tfor i in range(T)\n",
    "\t\t]\n",
    "\n",
    "\t\tdifferences.append(((init_state_1, init_state_2), get_bit_difference(test_sequence, validated_gamma[:T])))\n",
    "\n",
    "\treturn differences\n"
   ]
  },
  {
   "cell_type": "code",
   "execution_count": 50,
   "metadata": {},
   "outputs": [
    {
     "name": "stdout",
     "output_type": "stream",
     "text": [
      "g_2 = x0 + x1\n",
      "\n",
      "T = 812\n",
      "----------\n",
      "CPU times: user 923 ms, sys: 161 ms, total: 1.08 s\n",
      "Wall time: 2min\n"
     ]
    },
    {
     "data": {
      "text/html": [
       "<div>\n",
       "<style scoped>\n",
       "    .dataframe tbody tr th:only-of-type {\n",
       "        vertical-align: middle;\n",
       "    }\n",
       "\n",
       "    .dataframe tbody tr th {\n",
       "        vertical-align: top;\n",
       "    }\n",
       "\n",
       "    .dataframe thead th {\n",
       "        text-align: right;\n",
       "    }\n",
       "</style>\n",
       "<table border=\"1\" class=\"dataframe\">\n",
       "  <thead>\n",
       "    <tr style=\"text-align: right;\">\n",
       "      <th></th>\n",
       "      <th>Initial State</th>\n",
       "      <th>Hemming Distance</th>\n",
       "    </tr>\n",
       "  </thead>\n",
       "  <tbody>\n",
       "    <tr>\n",
       "      <th>0</th>\n",
       "      <td>(781, 328)</td>\n",
       "      <td>331</td>\n",
       "    </tr>\n",
       "    <tr>\n",
       "      <th>1</th>\n",
       "      <td>(603, 100)</td>\n",
       "      <td>335</td>\n",
       "    </tr>\n",
       "    <tr>\n",
       "      <th>2</th>\n",
       "      <td>(637, 581)</td>\n",
       "      <td>341</td>\n",
       "    </tr>\n",
       "    <tr>\n",
       "      <th>3</th>\n",
       "      <td>(755, 548)</td>\n",
       "      <td>341</td>\n",
       "    </tr>\n",
       "    <tr>\n",
       "      <th>4</th>\n",
       "      <td>(193, 4)</td>\n",
       "      <td>344</td>\n",
       "    </tr>\n",
       "    <tr>\n",
       "      <th>5</th>\n",
       "      <td>(759, 686)</td>\n",
       "      <td>344</td>\n",
       "    </tr>\n",
       "    <tr>\n",
       "      <th>6</th>\n",
       "      <td>(986, 178)</td>\n",
       "      <td>344</td>\n",
       "    </tr>\n",
       "    <tr>\n",
       "      <th>7</th>\n",
       "      <td>(98, 42)</td>\n",
       "      <td>345</td>\n",
       "    </tr>\n",
       "    <tr>\n",
       "      <th>8</th>\n",
       "      <td>(697, 120)</td>\n",
       "      <td>345</td>\n",
       "    </tr>\n",
       "    <tr>\n",
       "      <th>9</th>\n",
       "      <td>(873, 769)</td>\n",
       "      <td>345</td>\n",
       "    </tr>\n",
       "  </tbody>\n",
       "</table>\n",
       "</div>"
      ],
      "text/plain": [
       "  Initial State  Hemming Distance\n",
       "0    (781, 328)               331\n",
       "1    (603, 100)               335\n",
       "2    (637, 581)               341\n",
       "3    (755, 548)               341\n",
       "4      (193, 4)               344\n",
       "5    (759, 686)               344\n",
       "6    (986, 178)               344\n",
       "7      (98, 42)               345\n",
       "8    (697, 120)               345\n",
       "9    (873, 769)               345"
      ]
     },
     "execution_count": 50,
     "metadata": {},
     "output_type": "execute_result"
    }
   ],
   "source": [
    "%%time\n",
    "\n",
    "g_2 = candidates[2]\n",
    "T_2 = get_T(3)\n",
    "\n",
    "print(f'g_2 = {best_of_the_best[2]}')\n",
    "print(f'')\n",
    "print(f'T = {T_2}')\n",
    "print(f'----------')\n",
    "\n",
    "with Pool() as pool:\n",
    "\tdifferences_2 = list(\n",
    "\t\tpool.map(\n",
    "\t\t\tlambda init_state_1: brutforce_for_two_variable(init_state_1, (0, 1), g_2, T_2),\n",
    "\t\t\trange(brutforce_power)\n",
    "\t\t)\n",
    "\t)\n",
    "\n",
    "\tdifferences_2 = dict([difference for sublist in differences_2 for difference in sublist])\n",
    "\n",
    "pd.DataFrame(get_sorted_dict(differences_2)[:10], columns = ['Initial State', 'Hemming Distance'])\n"
   ]
  },
  {
   "cell_type": "code",
   "execution_count": 51,
   "metadata": {},
   "outputs": [],
   "source": [
    "poly_state_0 = 781\n",
    "poly_state_1 = 328\n"
   ]
  },
  {
   "cell_type": "code",
   "execution_count": 52,
   "metadata": {},
   "outputs": [
    {
     "name": "stdout",
     "output_type": "stream",
     "text": [
      "g_0 = x2 + x3\n",
      "\n",
      "T = 812\n",
      "----------\n",
      "CPU times: user 1.13 s, sys: 186 ms, total: 1.32 s\n",
      "Wall time: 1min 58s\n"
     ]
    },
    {
     "data": {
      "text/html": [
       "<div>\n",
       "<style scoped>\n",
       "    .dataframe tbody tr th:only-of-type {\n",
       "        vertical-align: middle;\n",
       "    }\n",
       "\n",
       "    .dataframe tbody tr th {\n",
       "        vertical-align: top;\n",
       "    }\n",
       "\n",
       "    .dataframe thead th {\n",
       "        text-align: right;\n",
       "    }\n",
       "</style>\n",
       "<table border=\"1\" class=\"dataframe\">\n",
       "  <thead>\n",
       "    <tr style=\"text-align: right;\">\n",
       "      <th></th>\n",
       "      <th>Initial State</th>\n",
       "      <th>Hemming Distance</th>\n",
       "    </tr>\n",
       "  </thead>\n",
       "  <tbody>\n",
       "    <tr>\n",
       "      <th>0</th>\n",
       "      <td>(305, 842)</td>\n",
       "      <td>318</td>\n",
       "    </tr>\n",
       "    <tr>\n",
       "      <th>1</th>\n",
       "      <td>(498, 611)</td>\n",
       "      <td>339</td>\n",
       "    </tr>\n",
       "    <tr>\n",
       "      <th>2</th>\n",
       "      <td>(1021, 304)</td>\n",
       "      <td>339</td>\n",
       "    </tr>\n",
       "    <tr>\n",
       "      <th>3</th>\n",
       "      <td>(66, 733)</td>\n",
       "      <td>342</td>\n",
       "    </tr>\n",
       "    <tr>\n",
       "      <th>4</th>\n",
       "      <td>(24, 779)</td>\n",
       "      <td>343</td>\n",
       "    </tr>\n",
       "    <tr>\n",
       "      <th>5</th>\n",
       "      <td>(340, 883)</td>\n",
       "      <td>343</td>\n",
       "    </tr>\n",
       "    <tr>\n",
       "      <th>6</th>\n",
       "      <td>(817, 108)</td>\n",
       "      <td>343</td>\n",
       "    </tr>\n",
       "    <tr>\n",
       "      <th>7</th>\n",
       "      <td>(129, 513)</td>\n",
       "      <td>344</td>\n",
       "    </tr>\n",
       "    <tr>\n",
       "      <th>8</th>\n",
       "      <td>(225, 816)</td>\n",
       "      <td>344</td>\n",
       "    </tr>\n",
       "    <tr>\n",
       "      <th>9</th>\n",
       "      <td>(446, 966)</td>\n",
       "      <td>345</td>\n",
       "    </tr>\n",
       "  </tbody>\n",
       "</table>\n",
       "</div>"
      ],
      "text/plain": [
       "  Initial State  Hemming Distance\n",
       "0    (305, 842)               318\n",
       "1    (498, 611)               339\n",
       "2   (1021, 304)               339\n",
       "3     (66, 733)               342\n",
       "4     (24, 779)               343\n",
       "5    (340, 883)               343\n",
       "6    (817, 108)               343\n",
       "7    (129, 513)               344\n",
       "8    (225, 816)               344\n",
       "9    (446, 966)               345"
      ]
     },
     "execution_count": 52,
     "metadata": {},
     "output_type": "execute_result"
    }
   ],
   "source": [
    "%%time\n",
    "\n",
    "g_3 = candidates[3]\n",
    "T_3 = get_T(3)\n",
    "\n",
    "print(f'g_3 = {best_of_the_best[3]}')\n",
    "print(f'')\n",
    "print(f'T = {T_3}')\n",
    "print(f'----------')\n",
    "\n",
    "with Pool() as pool:\n",
    "\tdifferences_3 = list(\n",
    "\t\tpool.map(\n",
    "\t\t\tlambda init_state_1: brutforce_for_two_variable(init_state_1, (2, 3), g_3, T_3),\n",
    "\t\t\trange(brutforce_power)\n",
    "\t\t)\n",
    "\t)\n",
    "\n",
    "\tdifferences_3 = dict([difference for sublist in differences_3 for difference in sublist])\n",
    "\n",
    "pd.DataFrame(get_sorted_dict(differences_3)[:10], columns = ['Initial State', 'Hemming Distance'])\n"
   ]
  },
  {
   "cell_type": "code",
   "execution_count": 53,
   "metadata": {},
   "outputs": [],
   "source": [
    "poly_state_2 = 305\n",
    "poly_state_3 = 842"
   ]
  },
  {
   "cell_type": "code",
   "execution_count": 54,
   "metadata": {},
   "outputs": [
    {
     "name": "stdout",
     "output_type": "stream",
     "text": [
      "[1, 0, 0, 1, 0, 0, 1, 0, 0, 1, 1, 0, 0, 0, 0]\n",
      "[1, 0, 0, 1, 0, 0, 1, 0, 0, 1, 1, 0, 0, 0, 0]\n"
     ]
    },
    {
     "data": {
      "text/plain": [
       "0"
      ]
     },
     "execution_count": 54,
     "metadata": {},
     "output_type": "execute_result"
    }
   ],
   "source": [
    "l = 50000\n",
    "\n",
    "sequence_poly_0 = generate_sequence(polynomials_int[0], poly_state_0, l)\n",
    "sequence_poly_1 = generate_sequence(polynomials_int[1], poly_state_1, l)\n",
    "sequence_poly_2 = generate_sequence(polynomials_int[2], poly_state_2, l)\n",
    "sequence_poly_3 = generate_sequence(polynomials_int[3], poly_state_3, l)\n",
    "sequence_poly_4 = generate_sequence(polynomials_int[4], poly_state_4, l)\n",
    "sequence_poly_5 = generate_sequence(polynomials_int[5], poly_state_5, l)\n",
    "\n",
    "sequence = [\n",
    "\tint(boolean_combining_function(\n",
    "\t\tstate_to_int((0, sequence_poly_0[i]), (1, sequence_poly_1[i]), (2, sequence_poly_2[i]), (3, sequence_poly_3[i]), (4, sequence_poly_4[i]), (5, sequence_poly_5[i]))\n",
    "\t))\n",
    "\tfor i in range(l)\n",
    "]\n",
    "\n",
    "print(sequence[:15])\n",
    "print(validated_gamma[:15])\n",
    "\n",
    "get_bit_difference(sequence, validated_gamma[:l])\n"
   ]
  },
  {
   "cell_type": "code",
   "execution_count": 55,
   "metadata": {},
   "outputs": [
    {
     "data": {
      "text/plain": [
       "1"
      ]
     },
     "execution_count": 55,
     "metadata": {},
     "output_type": "execute_result"
    }
   ],
   "source": [
    "int(''. join ([ str (i) for i in [0, 0, 1] ]) , 2)"
   ]
  },
  {
   "cell_type": "code",
   "execution_count": null,
   "metadata": {},
   "outputs": [],
   "source": []
  }
 ],
 "metadata": {
  "kernelspec": {
   "display_name": "SageMath 9.5",
   "language": "sage",
   "name": "sagemath"
  },
  "language_info": {
   "codemirror_mode": {
    "name": "ipython",
    "version": 3
   },
   "file_extension": ".py",
   "mimetype": "text/x-python",
   "name": "python",
   "nbconvert_exporter": "python",
   "pygments_lexer": "ipython3",
   "version": "3.10.6"
  },
  "orig_nbformat": 4
 },
 "nbformat": 4,
 "nbformat_minor": 2
}
